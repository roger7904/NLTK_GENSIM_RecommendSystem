{
 "cells": [
  {
   "cell_type": "code",
   "execution_count": 1,
   "metadata": {},
   "outputs": [],
   "source": [
    "import re\n",
    "import nltk\n",
    "from nltk.corpus import stopwords\n",
    "from gensim import corpora,similarities,models\n",
    "import csv"
   ]
  },
  {
   "cell_type": "code",
   "execution_count": 2,
   "metadata": {},
   "outputs": [],
   "source": [
    "ls = []\n",
    "with open(\"./data/articles.csv\",encoding=\"utf8\") as csvfile:\n",
    "    rows = csv.reader(csvfile)\n",
    "    next(rows)\n",
    "    for row in rows:\n",
    "        ls.append(row)\n",
    "texts = [text[5].lower() for text in ls]"
   ]
  },
  {
   "cell_type": "code",
   "execution_count": 3,
   "metadata": {},
   "outputs": [],
   "source": [
    "from nltk.tokenize import RegexpTokenizer\n",
    "\n",
    "tokenizer = RegexpTokenizer(r'\\w+')\n",
    "texts_tokenization=[]\n",
    "for word in texts:\n",
    "    texts_tokenization.append(tokenizer.tokenize(word))"
   ]
  },
  {
   "cell_type": "code",
   "execution_count": 4,
   "metadata": {},
   "outputs": [],
   "source": [
    "#stemming\n",
    "from nltk.stem import WordNetLemmatizer as WL\n",
    "wl=WL()\n",
    "texts_lemm = []\n",
    "i=0     \n",
    "for part in enumerate(texts_tokenization):\n",
    "    texts_lemm.append([])\n",
    "    for word in nltk.pos_tag(texts_tokenization[part[0]]):\n",
    "        if(word[1][0] == \"V\"):\n",
    "            texts_lemm[i].append(wl.lemmatize(word[0],pos='v'))\n",
    "        else:\n",
    "            texts_lemm[i].append(word[0])\n",
    "    i+=1"
   ]
  },
  {
   "cell_type": "code",
   "execution_count": 5,
   "metadata": {},
   "outputs": [],
   "source": [
    "#stopword\n",
    "from nltk.corpus import stopwords\n",
    "filters = stopwords.words('english')\n",
    "texts_stoped=[]\n",
    "j=0\n",
    "for part in enumerate(texts_lemm):\n",
    "    texts_stoped.append([])\n",
    "    for word in texts_lemm[part[0]]:\n",
    "        if word not in filters:\n",
    "            texts_stoped[j].append(word)\n",
    "    j+=1"
   ]
  },
  {
   "cell_type": "code",
   "execution_count": 6,
   "metadata": {},
   "outputs": [],
   "source": [
    "#生成 Lsi model\n",
    "from gensim import corpora,similarities,models"
   ]
  },
  {
   "cell_type": "code",
   "execution_count": 7,
   "metadata": {},
   "outputs": [
    {
     "name": "stdout",
     "output_type": "stream",
     "text": [
      "Dictionary(18588 unique tokens: ['000', '100', '16', '1990s', '2000']...)\n"
     ]
    }
   ],
   "source": [
    "#把每個字轉成id \n",
    "dictionary = corpora.Dictionary(texts_stoped)\n",
    "print(dictionary)"
   ]
  },
  {
   "cell_type": "code",
   "execution_count": 8,
   "metadata": {},
   "outputs": [],
   "source": [
    "#print(texts_stoped[0])\n",
    "#print([dictionary.token2id[l] for l in texts_stoped[0]])"
   ]
  },
  {
   "cell_type": "code",
   "execution_count": 9,
   "metadata": {},
   "outputs": [],
   "source": [
    "#計算每一個詞出現頻率 並轉成bow(稀疏向量形式)\n",
    "corpus = [dictionary.doc2bow(l) for l in texts_stoped]\n",
    "#print(corpus[0])"
   ]
  },
  {
   "cell_type": "code",
   "execution_count": 10,
   "metadata": {},
   "outputs": [],
   "source": [
    "#把bow輸入進tfidf\n",
    "tfidf = models.TfidfModel(corpus)"
   ]
  },
  {
   "cell_type": "code",
   "execution_count": 11,
   "metadata": {},
   "outputs": [],
   "source": [
    "#查看每個文檔的字詞 score\n",
    "corpus_tfidf = tfidf[corpus]\n",
    "# for doc in corpus_tfidf[:1]:\n",
    "#     print(doc)"
   ]
  },
  {
   "cell_type": "code",
   "execution_count": 12,
   "metadata": {},
   "outputs": [],
   "source": [
    "#lsi淺在語意索引\n",
    "lsi = models.LsiModel(corpus_tfidf, id2word=dictionary, num_topics=100)"
   ]
  },
  {
   "cell_type": "code",
   "execution_count": 13,
   "metadata": {},
   "outputs": [],
   "source": [
    "#輸入一串 query 型態為string。回傳依分數排序過後的推薦\n",
    "def recommend(query):\n",
    "    query_bow = dictionary.doc2bow([word for word in tokenizer.tokenize(query)])\n",
    "    lsi_vec = lsi[query_bow]\n",
    "    index = similarities.MatrixSimilarity(lsi[corpus]) \n",
    "    sims = index[lsi_vec] \n",
    "    sorted_index = sorted(enumerate(sims), key=lambda item: -item[1])\n",
    "    return sorted_index"
   ]
  },
  {
   "cell_type": "code",
   "execution_count": 14,
   "metadata": {},
   "outputs": [
    {
     "name": "stdout",
     "output_type": "stream",
     "text": [
      "推薦給你: \n",
      "title: Self-driving cars and the Trolley problem – Tanay Jaipuria – Medium\n",
      "link: https://medium.com/@tanayj/self-driving-cars-and-the-trolley-problem-5363b86cb82d?source=tag_archive---------4----------------\n",
      "推薦分數: 0.68157464\n",
      "\n",
      "title: 73 Mind-Blowing Implications of a Driverless Future\n",
      "link: https://medium.com/@DonotInnovate/73-mind-blowing-implications-of-a-driverless-future-58d23d1f338d?source=tag_archive---------1----------------\n",
      "推薦分數: 0.55251926\n",
      "\n",
      "title: An augmentation based deep neural network approach to learn human driving behavior\n",
      "link: https://chatbotslife.com/using-augmentation-to-mimic-human-driving-496b569760a9?source=tag_archive---------1----------------\n",
      "推薦分數: 0.5304466\n",
      "\n"
     ]
    }
   ],
   "source": [
    "query = \"I want to know Auto-drive\" #使用者輸入\n",
    "print(\"推薦給你: \")\n",
    "\n",
    "for ind,score in recommend(query)[:3]:\n",
    "    print(\"title: \"+ls[ind][4]+\"\\nlink: \"+ls[ind][3]+\"\\n推薦分數: \"+str(score)+\"\\n\")"
   ]
  }
 ],
 "metadata": {
  "kernelspec": {
   "display_name": "NLP python",
   "language": "python",
   "name": "nlp_course"
  },
  "language_info": {
   "codemirror_mode": {
    "name": "ipython",
    "version": 3
   },
   "file_extension": ".py",
   "mimetype": "text/x-python",
   "name": "python",
   "nbconvert_exporter": "python",
   "pygments_lexer": "ipython3",
   "version": "3.6.10"
  }
 },
 "nbformat": 4,
 "nbformat_minor": 2
}
